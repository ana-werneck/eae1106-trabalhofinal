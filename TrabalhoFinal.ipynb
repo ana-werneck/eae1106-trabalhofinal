{
 "cells": [
  {
   "attachments": {},
   "cell_type": "markdown",
   "metadata": {},
   "source": [
    "<p style=\"text-align: center;\"><font size=6><b>EAE1106 - Métodos Computacionais para Economistas</b></font></p>\n",
    "<p style=\"text-align: center;\"> Departamento de Economia | Faculdade de Economia, Administração, Contabilidade e Atuaria <br> Universidade de São Paulo <br><br></p>\n",
    "<p style=\"text-align: center;\">Ana Werneck de Souza Dias (NºUSP: 14651267) | Felipe Nogueira de Barros Corrêa  (NºUSP: XXXXXX)| Gabriel Finamore (NºUSP: XXXXXX) <br><br> Guilherme Menezes Cruz (NºUSP: XXXXXX) | Marina Perroni Romano (NºUSP: XXXXXX)| Leonardo de Souza Teodoro (NºUSP: XXXXXX) <br>\n",
    "<br><br></p>\n",
    "\n",
    "\n",
    "<p style=\"text-align: center;\">2º semestre de 2023</p>\n",
    "<hr>"
   ]
  },
  {
   "attachments": {},
   "cell_type": "markdown",
   "metadata": {},
   "source": [
    "<font size=6><b>Trabalho Final </b></font>\n",
    "<br><br>\n"
   ]
  },
  {
   "attachments": {},
   "cell_type": "markdown",
   "metadata": {},
   "source": [
    "Índice: \n",
    "1. Introdução\n",
    "2. Importação dos dados\n",
    "3. Tratamento de dados\n",
    "4. Análise dos dados\n",
    "5. Conclusão"
   ]
  },
  {
   "attachments": {},
   "cell_type": "markdown",
   "metadata": {},
   "source": [
    "### 1. Introdução"
   ]
  },
  {
   "attachments": {},
   "cell_type": "markdown",
   "metadata": {},
   "source": [
    "##### Informações contidas na base de dados (colunas):"
   ]
  },
  {
   "attachments": {},
   "cell_type": "markdown",
   "metadata": {},
   "source": [
    "* rank: The ranking of the billionaire in terms of wealth.<br><br>\n",
    "* finalWorth: The final net worth of the billionaire in U.S. dollars.<br><br>\n",
    "* category: The category or industry in which the billionaire's business operates.<br><br>\n",
    "* personName: The full name of the billionaire.<br><br>\n",
    "* age: The age of the billionaire.<br><br>\n",
    "* country: The country in which the billionaire resides.<br><br>\n",
    "* city: The city in which the billionaire resides.<br><br>\n",
    "* source: The source of the billionaire's wealth.<br><br>\n",
    "* industries: The industries associated with the billionaire's business interests.<br><br>\n",
    "* countryOfCitizenship: The country of citizenship of the billionaire.<br><br>\n",
    "* organization: The name of the organization or company associated with the billionaire.<br><br>\n",
    "* selfMade: Indicates whether the billionaire is self-made (True/False).<br><br>\n",
    "* status: \"D\" represents self-made billionaires (Founders/Entrepreneurs) and \"U\" indicates inherited or unearned wealth.<br><br>\n",
    "* gender: The gender of the billionaire.<br><br>\n",
    "* birthDate: The birthdate of the billionaire.<br><br>\n",
    "* lastName: The last name of the billionaire.<br><br>\n",
    "* firstName: The first name of the billionaire.<br><br>\n",
    "* title: The title or honorific of the billionaire.<br><br>\n",
    "* date: The date of data collection.<br><br>\n",
    "* state: The state in which the billionaire resides.<br><br>\n",
    "* residenceStateRegion: The region or state of residence of the billionaire.<br><br>\n",
    "* birthYear: The birth year of the billionaire.<br><br>\n",
    "* birthMonth: The birth month of the billionaire.<br><br>\n",
    "* birthDay: The birth day of the billionaire.<br><br>\n",
    "* cpi_country: Consumer Price Index (CPI) for the billionaire's country.<br><br>\n",
    "* cpi_change_country: CPI change for the billionaire's country.<br><br>\n",
    "* gdp_country: Gross Domestic Product (GDP) for the billionaire's country.<br><br>\n",
    "* gross_tertiary_education_enrollment: Enrollment in tertiary education in the billionaire's country.<br><br>\n",
    "* gross_primary_education_enrollment_country: Enrollment in primary education in the billionaire's country.<br><br>\n",
    "* life_expectancy_country: Life expectancy in the billionaire's country.<br><br>\n",
    "* tax_revenue_country_country: Tax revenue in the billionaire's country.<br><br>\n",
    "* total_tax_rate_country: Total tax rate in the billionaire's country.<br><br>\n",
    "* population_country: Population of the billionaire's country.<br><br>\n",
    "* latitude_country: Latitude coordinate of the billionaire's country.<br><br>\n",
    "* longitude_country: Longitude coordinate of the billionaire's country.<br><br>"
   ]
  },
  {
   "attachments": {},
   "cell_type": "markdown",
   "metadata": {},
   "source": [
    "### 2. Importação dos dados"
   ]
  },
  {
   "cell_type": "code",
   "execution_count": 1,
   "metadata": {},
   "outputs": [],
   "source": [
    "#Importando bibliotecas necessárias ao longo do trabalho\n",
    "import pandas as pd\n",
    "import numpy as np"
   ]
  },
  {
   "cell_type": "code",
   "execution_count": 2,
   "metadata": {},
   "outputs": [
    {
     "name": "stdout",
     "output_type": "stream",
     "text": [
      "Diretório inicial: /Users/ana/Documents/TrabalhoComp\n"
     ]
    }
   ],
   "source": [
    "#\n",
    "import os\n",
    "print('Diretório inicial: {}'.format(os.getcwd()))"
   ]
  },
  {
   "cell_type": "code",
   "execution_count": 3,
   "metadata": {},
   "outputs": [
    {
     "name": "stdout",
     "output_type": "stream",
     "text": [
      "Diretório final: /Users/ana/Documents/TrabalhoComp\n"
     ]
    }
   ],
   "source": [
    "os.chdir('/Users/ana/Documents/TrabalhoComp')\n",
    "print('Diretório final: {}'.format(os.getcwd()))"
   ]
  },
  {
   "cell_type": "code",
   "execution_count": 4,
   "metadata": {},
   "outputs": [],
   "source": [
    "df = pd.read_csv('bilionarios.csv',sep=\",\", encoding='utf8')"
   ]
  },
  {
   "attachments": {},
   "cell_type": "markdown",
   "metadata": {},
   "source": [
    "### 3. Tratamento de dados"
   ]
  },
  {
   "cell_type": "code",
   "execution_count": 5,
   "metadata": {},
   "outputs": [
    {
     "name": "stdout",
     "output_type": "stream",
     "text": [
      "<class 'pandas.core.frame.DataFrame'>\n",
      "RangeIndex: 2640 entries, 0 to 2639\n",
      "Data columns (total 35 columns):\n",
      " #   Column                                      Non-Null Count  Dtype  \n",
      "---  ------                                      --------------  -----  \n",
      " 0   rank                                        2640 non-null   int64  \n",
      " 1   finalWorth                                  2640 non-null   int64  \n",
      " 2   category                                    2640 non-null   object \n",
      " 3   personName                                  2640 non-null   object \n",
      " 4   age                                         2575 non-null   float64\n",
      " 5   country                                     2602 non-null   object \n",
      " 6   city                                        2568 non-null   object \n",
      " 7   source                                      2640 non-null   object \n",
      " 8   industries                                  2640 non-null   object \n",
      " 9   countryOfCitizenship                        2640 non-null   object \n",
      " 10  organization                                325 non-null    object \n",
      " 11  selfMade                                    2640 non-null   bool   \n",
      " 12  status                                      2640 non-null   object \n",
      " 13  gender                                      2640 non-null   object \n",
      " 14  birthDate                                   2564 non-null   object \n",
      " 15  lastName                                    2640 non-null   object \n",
      " 16  firstName                                   2637 non-null   object \n",
      " 17  title                                       339 non-null    object \n",
      " 18  date                                        2640 non-null   object \n",
      " 19  state                                       753 non-null    object \n",
      " 20  residenceStateRegion                        747 non-null    object \n",
      " 21  birthYear                                   2564 non-null   float64\n",
      " 22  birthMonth                                  2564 non-null   float64\n",
      " 23  birthDay                                    2564 non-null   float64\n",
      " 24  cpi_country                                 2456 non-null   float64\n",
      " 25  cpi_change_country                          2456 non-null   float64\n",
      " 26  gdp_country                                 2476 non-null   object \n",
      " 27  gross_tertiary_education_enrollment         2458 non-null   float64\n",
      " 28  gross_primary_education_enrollment_country  2459 non-null   float64\n",
      " 29  life_expectancy_country                     2458 non-null   float64\n",
      " 30  tax_revenue_country_country                 2457 non-null   float64\n",
      " 31  total_tax_rate_country                      2458 non-null   float64\n",
      " 32  population_country                          2476 non-null   float64\n",
      " 33  latitude_country                            2476 non-null   float64\n",
      " 34  longitude_country                           2476 non-null   float64\n",
      "dtypes: bool(1), float64(14), int64(2), object(18)\n",
      "memory usage: 704.0+ KB\n"
     ]
    }
   ],
   "source": [
    "#Obtendo primeiras informações acerca do dataframe estudado\n",
    "df.info()"
   ]
  },
  {
   "attachments": {},
   "cell_type": "markdown",
   "metadata": {},
   "source": [
    "O primeiro passo para o tratamento de dados será excluir as colunas que não terão utilidade para o grupo dado o recorte estabelecido pelas hipóteses."
   ]
  },
  {
   "cell_type": "code",
   "execution_count": 6,
   "metadata": {},
   "outputs": [],
   "source": [
    "#Apagando colunas desnecessárias\n",
    "colunas_desnecessarias = [\"lastName\", \"firstName\", \"date\", \"birthYear\", \"birthMonth\", \"birthDay\",\n",
    "                       \"latitude_country\", \"longitude_country\", \"category\", \"residenceStateRegion\",\n",
    "                       \"city\", \"state\", \"organization\", \"industries\", \"title\", \"source\", \"birthDate\",\"rank\"]\n",
    "\n",
    "df = df.drop(columns=colunas_desnecessarias, errors='ignore')"
   ]
  },
  {
   "cell_type": "code",
   "execution_count": 7,
   "metadata": {},
   "outputs": [
    {
     "name": "stdout",
     "output_type": "stream",
     "text": [
      "<class 'pandas.core.frame.DataFrame'>\n",
      "RangeIndex: 2640 entries, 0 to 2639\n",
      "Data columns (total 17 columns):\n",
      " #   Column                                      Non-Null Count  Dtype  \n",
      "---  ------                                      --------------  -----  \n",
      " 0   finalWorth                                  2640 non-null   int64  \n",
      " 1   personName                                  2640 non-null   object \n",
      " 2   age                                         2575 non-null   float64\n",
      " 3   country                                     2602 non-null   object \n",
      " 4   countryOfCitizenship                        2640 non-null   object \n",
      " 5   selfMade                                    2640 non-null   bool   \n",
      " 6   status                                      2640 non-null   object \n",
      " 7   gender                                      2640 non-null   object \n",
      " 8   cpi_country                                 2456 non-null   float64\n",
      " 9   cpi_change_country                          2456 non-null   float64\n",
      " 10  gdp_country                                 2476 non-null   object \n",
      " 11  gross_tertiary_education_enrollment         2458 non-null   float64\n",
      " 12  gross_primary_education_enrollment_country  2459 non-null   float64\n",
      " 13  life_expectancy_country                     2458 non-null   float64\n",
      " 14  tax_revenue_country_country                 2457 non-null   float64\n",
      " 15  total_tax_rate_country                      2458 non-null   float64\n",
      " 16  population_country                          2476 non-null   float64\n",
      "dtypes: bool(1), float64(9), int64(1), object(6)\n",
      "memory usage: 332.7+ KB\n"
     ]
    }
   ],
   "source": [
    "df.info()"
   ]
  },
  {
   "attachments": {},
   "cell_type": "markdown",
   "metadata": {},
   "source": [
    "Em seguida, podemos notar que a quantidade de linhas não nulas em cada coluna varia, o que pode vir a ser um problema na elaboração de gráficos e análise de dados, por isso, o próximo passo foi eliminar todas as linhas que possuíssem valores nulos."
   ]
  },
  {
   "cell_type": "code",
   "execution_count": 8,
   "metadata": {},
   "outputs": [],
   "source": [
    "#Excluindo linhas com valores nulos\n",
    "df = df.dropna()"
   ]
  },
  {
   "cell_type": "code",
   "execution_count": 9,
   "metadata": {},
   "outputs": [
    {
     "name": "stdout",
     "output_type": "stream",
     "text": [
      "<class 'pandas.core.frame.DataFrame'>\n",
      "Index: 2407 entries, 0 to 2639\n",
      "Data columns (total 17 columns):\n",
      " #   Column                                      Non-Null Count  Dtype  \n",
      "---  ------                                      --------------  -----  \n",
      " 0   finalWorth                                  2407 non-null   int64  \n",
      " 1   personName                                  2407 non-null   object \n",
      " 2   age                                         2407 non-null   float64\n",
      " 3   country                                     2407 non-null   object \n",
      " 4   countryOfCitizenship                        2407 non-null   object \n",
      " 5   selfMade                                    2407 non-null   bool   \n",
      " 6   status                                      2407 non-null   object \n",
      " 7   gender                                      2407 non-null   object \n",
      " 8   cpi_country                                 2407 non-null   float64\n",
      " 9   cpi_change_country                          2407 non-null   float64\n",
      " 10  gdp_country                                 2407 non-null   object \n",
      " 11  gross_tertiary_education_enrollment         2407 non-null   float64\n",
      " 12  gross_primary_education_enrollment_country  2407 non-null   float64\n",
      " 13  life_expectancy_country                     2407 non-null   float64\n",
      " 14  tax_revenue_country_country                 2407 non-null   float64\n",
      " 15  total_tax_rate_country                      2407 non-null   float64\n",
      " 16  population_country                          2407 non-null   float64\n",
      "dtypes: bool(1), float64(9), int64(1), object(6)\n",
      "memory usage: 322.0+ KB\n"
     ]
    }
   ],
   "source": [
    "df.info()"
   ]
  },
  {
   "attachments": {},
   "cell_type": "markdown",
   "metadata": {},
   "source": [
    "Por fim, analisando os tipos de informação em cada coluna, notamos que o PIB do país de origem do bilionário está no tipo 'object'. Dado que é um valor numérico, é preferível que ele esteja retratado como um número inteiro, como faremos no próximo passo."
   ]
  },
  {
   "cell_type": "code",
   "execution_count": 10,
   "metadata": {},
   "outputs": [
    {
     "data": {
      "text/plain": [
       "0        $2,715,518,274,227 \n",
       "1       $21,427,700,000,000 \n",
       "2       $21,427,700,000,000 \n",
       "3       $21,427,700,000,000 \n",
       "4       $21,427,700,000,000 \n",
       "                ...         \n",
       "2635    $19,910,000,000,000 \n",
       "2636    $21,427,700,000,000 \n",
       "2637    $19,910,000,000,000 \n",
       "2638    $19,910,000,000,000 \n",
       "2639       $376,795,508,680 \n",
       "Name: gdp_country, Length: 2407, dtype: object"
      ]
     },
     "execution_count": 10,
     "metadata": {},
     "output_type": "execute_result"
    }
   ],
   "source": [
    "#Compreendendo como estão os valores como objetos na coluna gdp_country\n",
    "df['gdp_country']"
   ]
  },
  {
   "cell_type": "code",
   "execution_count": 11,
   "metadata": {},
   "outputs": [],
   "source": [
    "#Eliminando caracteres que impedem a conversão direta dos valores para números inteiros\n",
    "df['gdp_country'] = df['gdp_country'].str.replace('$', '')\n",
    "df['gdp_country'] = df['gdp_country'].str.replace(',', '')"
   ]
  },
  {
   "cell_type": "code",
   "execution_count": 12,
   "metadata": {},
   "outputs": [
    {
     "data": {
      "text/plain": [
       "0        2715518274227 \n",
       "1       21427700000000 \n",
       "2       21427700000000 \n",
       "3       21427700000000 \n",
       "4       21427700000000 \n",
       "             ...       \n",
       "2635    19910000000000 \n",
       "2636    21427700000000 \n",
       "2637    19910000000000 \n",
       "2638    19910000000000 \n",
       "2639      376795508680 \n",
       "Name: gdp_country, Length: 2407, dtype: object"
      ]
     },
     "execution_count": 12,
     "metadata": {},
     "output_type": "execute_result"
    }
   ],
   "source": [
    "df['gdp_country']"
   ]
  },
  {
   "cell_type": "code",
   "execution_count": 13,
   "metadata": {},
   "outputs": [],
   "source": [
    "df['gdp_country'] = df['gdp_country'].astype(int)"
   ]
  },
  {
   "cell_type": "code",
   "execution_count": 14,
   "metadata": {},
   "outputs": [
    {
     "name": "stdout",
     "output_type": "stream",
     "text": [
      "<class 'pandas.core.frame.DataFrame'>\n",
      "Index: 2407 entries, 0 to 2639\n",
      "Data columns (total 17 columns):\n",
      " #   Column                                      Non-Null Count  Dtype  \n",
      "---  ------                                      --------------  -----  \n",
      " 0   finalWorth                                  2407 non-null   int64  \n",
      " 1   personName                                  2407 non-null   object \n",
      " 2   age                                         2407 non-null   float64\n",
      " 3   country                                     2407 non-null   object \n",
      " 4   countryOfCitizenship                        2407 non-null   object \n",
      " 5   selfMade                                    2407 non-null   bool   \n",
      " 6   status                                      2407 non-null   object \n",
      " 7   gender                                      2407 non-null   object \n",
      " 8   cpi_country                                 2407 non-null   float64\n",
      " 9   cpi_change_country                          2407 non-null   float64\n",
      " 10  gdp_country                                 2407 non-null   int64  \n",
      " 11  gross_tertiary_education_enrollment         2407 non-null   float64\n",
      " 12  gross_primary_education_enrollment_country  2407 non-null   float64\n",
      " 13  life_expectancy_country                     2407 non-null   float64\n",
      " 14  tax_revenue_country_country                 2407 non-null   float64\n",
      " 15  total_tax_rate_country                      2407 non-null   float64\n",
      " 16  population_country                          2407 non-null   float64\n",
      "dtypes: bool(1), float64(9), int64(2), object(5)\n",
      "memory usage: 322.0+ KB\n"
     ]
    }
   ],
   "source": [
    "df.info()"
   ]
  },
  {
   "attachments": {},
   "cell_type": "markdown",
   "metadata": {},
   "source": [
    "Agora que o dataframe aparenta estar organizado e arrumado, o último passo da etapa de tratamento de dados será adicionar colunas que serão úteis em nossas análises, como a coluna 'fuga_de_cerebros', que nos dirá se o bilionário em questão é"
   ]
  },
  {
   "cell_type": "code",
   "execution_count": 15,
   "metadata": {},
   "outputs": [],
   "source": [
    "#Coluna 'fuga_de_cerebros' indica se bilionário mudou de país(true) ou não (false) \n",
    "df['fuga_de_cerebros']= np.where(df['countryOfCitizenship'] == df['country'], False, True)"
   ]
  },
  {
   "cell_type": "code",
   "execution_count": 19,
   "metadata": {},
   "outputs": [
    {
     "data": {
      "text/html": [
       "<div>\n",
       "<style scoped>\n",
       "    .dataframe tbody tr th:only-of-type {\n",
       "        vertical-align: middle;\n",
       "    }\n",
       "\n",
       "    .dataframe tbody tr th {\n",
       "        vertical-align: top;\n",
       "    }\n",
       "\n",
       "    .dataframe thead th {\n",
       "        text-align: right;\n",
       "    }\n",
       "</style>\n",
       "<table border=\"1\" class=\"dataframe\">\n",
       "  <thead>\n",
       "    <tr style=\"text-align: right;\">\n",
       "      <th></th>\n",
       "      <th>finalWorth</th>\n",
       "      <th>personName</th>\n",
       "      <th>age</th>\n",
       "      <th>country</th>\n",
       "      <th>countryOfCitizenship</th>\n",
       "      <th>selfMade</th>\n",
       "      <th>status</th>\n",
       "      <th>gender</th>\n",
       "      <th>cpi_country</th>\n",
       "      <th>cpi_change_country</th>\n",
       "      <th>gdp_country</th>\n",
       "      <th>gross_tertiary_education_enrollment</th>\n",
       "      <th>gross_primary_education_enrollment_country</th>\n",
       "      <th>life_expectancy_country</th>\n",
       "      <th>tax_revenue_country_country</th>\n",
       "      <th>total_tax_rate_country</th>\n",
       "      <th>population_country</th>\n",
       "      <th>fuga_de_cerebros</th>\n",
       "    </tr>\n",
       "  </thead>\n",
       "  <tbody>\n",
       "    <tr>\n",
       "      <th>0</th>\n",
       "      <td>211000</td>\n",
       "      <td>Bernard Arnault &amp; family</td>\n",
       "      <td>74.0</td>\n",
       "      <td>France</td>\n",
       "      <td>France</td>\n",
       "      <td>False</td>\n",
       "      <td>U</td>\n",
       "      <td>M</td>\n",
       "      <td>110.05</td>\n",
       "      <td>1.1</td>\n",
       "      <td>2715518274227</td>\n",
       "      <td>65.6</td>\n",
       "      <td>102.5</td>\n",
       "      <td>82.5</td>\n",
       "      <td>24.2</td>\n",
       "      <td>60.7</td>\n",
       "      <td>6.705989e+07</td>\n",
       "      <td>False</td>\n",
       "    </tr>\n",
       "    <tr>\n",
       "      <th>1</th>\n",
       "      <td>180000</td>\n",
       "      <td>Elon Musk</td>\n",
       "      <td>51.0</td>\n",
       "      <td>United States</td>\n",
       "      <td>United States</td>\n",
       "      <td>True</td>\n",
       "      <td>D</td>\n",
       "      <td>M</td>\n",
       "      <td>117.24</td>\n",
       "      <td>7.5</td>\n",
       "      <td>21427700000000</td>\n",
       "      <td>88.2</td>\n",
       "      <td>101.8</td>\n",
       "      <td>78.5</td>\n",
       "      <td>9.6</td>\n",
       "      <td>36.6</td>\n",
       "      <td>3.282395e+08</td>\n",
       "      <td>False</td>\n",
       "    </tr>\n",
       "    <tr>\n",
       "      <th>2</th>\n",
       "      <td>114000</td>\n",
       "      <td>Jeff Bezos</td>\n",
       "      <td>59.0</td>\n",
       "      <td>United States</td>\n",
       "      <td>United States</td>\n",
       "      <td>True</td>\n",
       "      <td>D</td>\n",
       "      <td>M</td>\n",
       "      <td>117.24</td>\n",
       "      <td>7.5</td>\n",
       "      <td>21427700000000</td>\n",
       "      <td>88.2</td>\n",
       "      <td>101.8</td>\n",
       "      <td>78.5</td>\n",
       "      <td>9.6</td>\n",
       "      <td>36.6</td>\n",
       "      <td>3.282395e+08</td>\n",
       "      <td>False</td>\n",
       "    </tr>\n",
       "    <tr>\n",
       "      <th>3</th>\n",
       "      <td>107000</td>\n",
       "      <td>Larry Ellison</td>\n",
       "      <td>78.0</td>\n",
       "      <td>United States</td>\n",
       "      <td>United States</td>\n",
       "      <td>True</td>\n",
       "      <td>U</td>\n",
       "      <td>M</td>\n",
       "      <td>117.24</td>\n",
       "      <td>7.5</td>\n",
       "      <td>21427700000000</td>\n",
       "      <td>88.2</td>\n",
       "      <td>101.8</td>\n",
       "      <td>78.5</td>\n",
       "      <td>9.6</td>\n",
       "      <td>36.6</td>\n",
       "      <td>3.282395e+08</td>\n",
       "      <td>False</td>\n",
       "    </tr>\n",
       "    <tr>\n",
       "      <th>4</th>\n",
       "      <td>106000</td>\n",
       "      <td>Warren Buffett</td>\n",
       "      <td>92.0</td>\n",
       "      <td>United States</td>\n",
       "      <td>United States</td>\n",
       "      <td>True</td>\n",
       "      <td>D</td>\n",
       "      <td>M</td>\n",
       "      <td>117.24</td>\n",
       "      <td>7.5</td>\n",
       "      <td>21427700000000</td>\n",
       "      <td>88.2</td>\n",
       "      <td>101.8</td>\n",
       "      <td>78.5</td>\n",
       "      <td>9.6</td>\n",
       "      <td>36.6</td>\n",
       "      <td>3.282395e+08</td>\n",
       "      <td>False</td>\n",
       "    </tr>\n",
       "    <tr>\n",
       "      <th>...</th>\n",
       "      <td>...</td>\n",
       "      <td>...</td>\n",
       "      <td>...</td>\n",
       "      <td>...</td>\n",
       "      <td>...</td>\n",
       "      <td>...</td>\n",
       "      <td>...</td>\n",
       "      <td>...</td>\n",
       "      <td>...</td>\n",
       "      <td>...</td>\n",
       "      <td>...</td>\n",
       "      <td>...</td>\n",
       "      <td>...</td>\n",
       "      <td>...</td>\n",
       "      <td>...</td>\n",
       "      <td>...</td>\n",
       "      <td>...</td>\n",
       "      <td>...</td>\n",
       "    </tr>\n",
       "    <tr>\n",
       "      <th>2635</th>\n",
       "      <td>1000</td>\n",
       "      <td>Yu Rong</td>\n",
       "      <td>51.0</td>\n",
       "      <td>China</td>\n",
       "      <td>China</td>\n",
       "      <td>True</td>\n",
       "      <td>D</td>\n",
       "      <td>M</td>\n",
       "      <td>125.08</td>\n",
       "      <td>2.9</td>\n",
       "      <td>19910000000000</td>\n",
       "      <td>50.6</td>\n",
       "      <td>100.2</td>\n",
       "      <td>77.0</td>\n",
       "      <td>9.4</td>\n",
       "      <td>59.2</td>\n",
       "      <td>1.397715e+09</td>\n",
       "      <td>False</td>\n",
       "    </tr>\n",
       "    <tr>\n",
       "      <th>2636</th>\n",
       "      <td>1000</td>\n",
       "      <td>Richard Yuengling, Jr.</td>\n",
       "      <td>80.0</td>\n",
       "      <td>United States</td>\n",
       "      <td>United States</td>\n",
       "      <td>False</td>\n",
       "      <td>E</td>\n",
       "      <td>M</td>\n",
       "      <td>117.24</td>\n",
       "      <td>7.5</td>\n",
       "      <td>21427700000000</td>\n",
       "      <td>88.2</td>\n",
       "      <td>101.8</td>\n",
       "      <td>78.5</td>\n",
       "      <td>9.6</td>\n",
       "      <td>36.6</td>\n",
       "      <td>3.282395e+08</td>\n",
       "      <td>False</td>\n",
       "    </tr>\n",
       "    <tr>\n",
       "      <th>2637</th>\n",
       "      <td>1000</td>\n",
       "      <td>Zhang Gongyun</td>\n",
       "      <td>60.0</td>\n",
       "      <td>China</td>\n",
       "      <td>China</td>\n",
       "      <td>True</td>\n",
       "      <td>R</td>\n",
       "      <td>M</td>\n",
       "      <td>125.08</td>\n",
       "      <td>2.9</td>\n",
       "      <td>19910000000000</td>\n",
       "      <td>50.6</td>\n",
       "      <td>100.2</td>\n",
       "      <td>77.0</td>\n",
       "      <td>9.4</td>\n",
       "      <td>59.2</td>\n",
       "      <td>1.397715e+09</td>\n",
       "      <td>False</td>\n",
       "    </tr>\n",
       "    <tr>\n",
       "      <th>2638</th>\n",
       "      <td>1000</td>\n",
       "      <td>Zhang Guiping &amp; family</td>\n",
       "      <td>71.0</td>\n",
       "      <td>China</td>\n",
       "      <td>China</td>\n",
       "      <td>True</td>\n",
       "      <td>D</td>\n",
       "      <td>M</td>\n",
       "      <td>125.08</td>\n",
       "      <td>2.9</td>\n",
       "      <td>19910000000000</td>\n",
       "      <td>50.6</td>\n",
       "      <td>100.2</td>\n",
       "      <td>77.0</td>\n",
       "      <td>9.4</td>\n",
       "      <td>59.2</td>\n",
       "      <td>1.397715e+09</td>\n",
       "      <td>False</td>\n",
       "    </tr>\n",
       "    <tr>\n",
       "      <th>2639</th>\n",
       "      <td>1000</td>\n",
       "      <td>Inigo Zobel</td>\n",
       "      <td>66.0</td>\n",
       "      <td>Philippines</td>\n",
       "      <td>Philippines</td>\n",
       "      <td>False</td>\n",
       "      <td>R</td>\n",
       "      <td>M</td>\n",
       "      <td>129.61</td>\n",
       "      <td>2.5</td>\n",
       "      <td>376795508680</td>\n",
       "      <td>35.5</td>\n",
       "      <td>107.5</td>\n",
       "      <td>71.1</td>\n",
       "      <td>14.0</td>\n",
       "      <td>43.1</td>\n",
       "      <td>1.081166e+08</td>\n",
       "      <td>False</td>\n",
       "    </tr>\n",
       "  </tbody>\n",
       "</table>\n",
       "<p>2407 rows × 18 columns</p>\n",
       "</div>"
      ],
      "text/plain": [
       "      finalWorth                personName   age        country   \n",
       "0         211000  Bernard Arnault & family  74.0         France  \\\n",
       "1         180000                 Elon Musk  51.0  United States   \n",
       "2         114000                Jeff Bezos  59.0  United States   \n",
       "3         107000             Larry Ellison  78.0  United States   \n",
       "4         106000            Warren Buffett  92.0  United States   \n",
       "...          ...                       ...   ...            ...   \n",
       "2635        1000                   Yu Rong  51.0          China   \n",
       "2636        1000    Richard Yuengling, Jr.  80.0  United States   \n",
       "2637        1000             Zhang Gongyun  60.0          China   \n",
       "2638        1000    Zhang Guiping & family  71.0          China   \n",
       "2639        1000               Inigo Zobel  66.0    Philippines   \n",
       "\n",
       "     countryOfCitizenship  selfMade status gender  cpi_country   \n",
       "0                  France     False      U      M       110.05  \\\n",
       "1           United States      True      D      M       117.24   \n",
       "2           United States      True      D      M       117.24   \n",
       "3           United States      True      U      M       117.24   \n",
       "4           United States      True      D      M       117.24   \n",
       "...                   ...       ...    ...    ...          ...   \n",
       "2635                China      True      D      M       125.08   \n",
       "2636        United States     False      E      M       117.24   \n",
       "2637                China      True      R      M       125.08   \n",
       "2638                China      True      D      M       125.08   \n",
       "2639          Philippines     False      R      M       129.61   \n",
       "\n",
       "      cpi_change_country     gdp_country  gross_tertiary_education_enrollment   \n",
       "0                    1.1   2715518274227                                 65.6  \\\n",
       "1                    7.5  21427700000000                                 88.2   \n",
       "2                    7.5  21427700000000                                 88.2   \n",
       "3                    7.5  21427700000000                                 88.2   \n",
       "4                    7.5  21427700000000                                 88.2   \n",
       "...                  ...             ...                                  ...   \n",
       "2635                 2.9  19910000000000                                 50.6   \n",
       "2636                 7.5  21427700000000                                 88.2   \n",
       "2637                 2.9  19910000000000                                 50.6   \n",
       "2638                 2.9  19910000000000                                 50.6   \n",
       "2639                 2.5    376795508680                                 35.5   \n",
       "\n",
       "      gross_primary_education_enrollment_country  life_expectancy_country   \n",
       "0                                          102.5                     82.5  \\\n",
       "1                                          101.8                     78.5   \n",
       "2                                          101.8                     78.5   \n",
       "3                                          101.8                     78.5   \n",
       "4                                          101.8                     78.5   \n",
       "...                                          ...                      ...   \n",
       "2635                                       100.2                     77.0   \n",
       "2636                                       101.8                     78.5   \n",
       "2637                                       100.2                     77.0   \n",
       "2638                                       100.2                     77.0   \n",
       "2639                                       107.5                     71.1   \n",
       "\n",
       "      tax_revenue_country_country  total_tax_rate_country  population_country   \n",
       "0                            24.2                    60.7        6.705989e+07  \\\n",
       "1                             9.6                    36.6        3.282395e+08   \n",
       "2                             9.6                    36.6        3.282395e+08   \n",
       "3                             9.6                    36.6        3.282395e+08   \n",
       "4                             9.6                    36.6        3.282395e+08   \n",
       "...                           ...                     ...                 ...   \n",
       "2635                          9.4                    59.2        1.397715e+09   \n",
       "2636                          9.6                    36.6        3.282395e+08   \n",
       "2637                          9.4                    59.2        1.397715e+09   \n",
       "2638                          9.4                    59.2        1.397715e+09   \n",
       "2639                         14.0                    43.1        1.081166e+08   \n",
       "\n",
       "      fuga_de_cerebros  \n",
       "0                False  \n",
       "1                False  \n",
       "2                False  \n",
       "3                False  \n",
       "4                False  \n",
       "...                ...  \n",
       "2635             False  \n",
       "2636             False  \n",
       "2637             False  \n",
       "2638             False  \n",
       "2639             False  \n",
       "\n",
       "[2407 rows x 18 columns]"
      ]
     },
     "execution_count": 19,
     "metadata": {},
     "output_type": "execute_result"
    }
   ],
   "source": [
    "#Aparência final do DataFrame\n",
    "df"
   ]
  },
  {
   "cell_type": "code",
   "execution_count": null,
   "metadata": {},
   "outputs": [],
   "source": []
  }
 ],
 "metadata": {
  "kernelspec": {
   "display_name": "Python 3",
   "language": "python",
   "name": "python3"
  },
  "language_info": {
   "codemirror_mode": {
    "name": "ipython",
    "version": 3
   },
   "file_extension": ".py",
   "mimetype": "text/x-python",
   "name": "python",
   "nbconvert_exporter": "python",
   "pygments_lexer": "ipython3",
   "version": "3.11.3"
  },
  "orig_nbformat": 4
 },
 "nbformat": 4,
 "nbformat_minor": 2
}
